{
  "nbformat": 4,
  "nbformat_minor": 0,
  "metadata": {
    "colab": {
      "provenance": []
    },
    "kernelspec": {
      "name": "python3",
      "display_name": "Python 3"
    },
    "language_info": {
      "name": "python"
    }
  },
  "cells": [
    {
      "cell_type": "code",
      "execution_count": 1,
      "metadata": {
        "id": "Wb0m2OEiuBkF"
      },
      "outputs": [],
      "source": [
        "import numpy as np"
      ]
    },
    {
      "cell_type": "code",
      "source": [
        "a=np.array([[4,6],[7,8],[9,1]])\n",
        "ai=np.array([[4,6],[7,8],[9,1]])\n",
        "\n",
        "print(a,\"\\n\\n\")\n",
        "print(  a.ndim)  #checking dimention\n",
        "\n"
      ],
      "metadata": {
        "colab": {
          "base_uri": "https://localhost:8080/"
        },
        "id": "j4HIAc6ctuGP",
        "outputId": "4de3ace6-7293-43f4-8140-0313a929a7ab"
      },
      "execution_count": 2,
      "outputs": [
        {
          "output_type": "stream",
          "name": "stdout",
          "text": [
            "[[4 6]\n",
            " [7 8]\n",
            " [9 1]] \n",
            "\n",
            "\n",
            "2\n"
          ]
        }
      ]
    },
    {
      "cell_type": "code",
      "source": [
        "print( a[1,0],\"\\n\\n\") #indexing\n",
        "\n",
        "print( a.dtype,\"\\n\\n\") #checking dimention\n"
      ],
      "metadata": {
        "colab": {
          "base_uri": "https://localhost:8080/"
        },
        "id": "Y_4S46eMt7hC",
        "outputId": "e24bb296-f4f2-4443-8ac7-ab19b60461c8"
      },
      "execution_count": 3,
      "outputs": [
        {
          "output_type": "stream",
          "name": "stdout",
          "text": [
            "7 \n",
            "\n",
            "\n",
            "int64 \n",
            "\n",
            "\n"
          ]
        }
      ]
    },
    {
      "cell_type": "code",
      "source": [
        "print(  a.shape,\"\\n\\n\")\n",
        "\n",
        "na = a.reshape(-1)  #flataning/reshaping/changing dimention\n",
        "\n",
        "print( na,\"\\n\\n\")\n",
        "\n"
      ],
      "metadata": {
        "colab": {
          "base_uri": "https://localhost:8080/"
        },
        "id": "DZ9soDx4uD1r",
        "outputId": "1e7039e3-ea0e-4796-d4e7-a75898f1533e"
      },
      "execution_count": 4,
      "outputs": [
        {
          "output_type": "stream",
          "name": "stdout",
          "text": [
            "(3, 2) \n",
            "\n",
            "\n",
            "[4 6 7 8 9 1] \n",
            "\n",
            "\n"
          ]
        }
      ]
    },
    {
      "cell_type": "code",
      "source": [
        "arrrr= na.reshape(2,3)\n",
        "\n",
        "print( arrrr,\"\\n\\n\")\n",
        "\n",
        "aii = np.concatenate((a, ai), axis=1)\n"
      ],
      "metadata": {
        "colab": {
          "base_uri": "https://localhost:8080/"
        },
        "id": "_p_J9zGbuRky",
        "outputId": "0c06eae6-894c-41ac-f17b-e344436643b6"
      },
      "execution_count": 5,
      "outputs": [
        {
          "output_type": "stream",
          "name": "stdout",
          "text": [
            "[[4 6 7]\n",
            " [8 9 1]] \n",
            "\n",
            "\n"
          ]
        }
      ]
    },
    {
      "cell_type": "code",
      "source": [
        "\n",
        "for x in aii:\n",
        "  for y in x:\n",
        "    print( y)\n",
        "\n"
      ],
      "metadata": {
        "colab": {
          "base_uri": "https://localhost:8080/"
        },
        "id": "J-3D44WNutk_",
        "outputId": "3ca39730-1892-468d-92ee-c0af0c035a8d"
      },
      "execution_count": 7,
      "outputs": [
        {
          "output_type": "stream",
          "name": "stdout",
          "text": [
            "4\n",
            "6\n",
            "4\n",
            "6\n",
            "7\n",
            "8\n",
            "7\n",
            "8\n",
            "9\n",
            "1\n",
            "9\n",
            "1\n"
          ]
        }
      ]
    },
    {
      "cell_type": "code",
      "source": [
        "print( np.sort(aii))\n"
      ],
      "metadata": {
        "colab": {
          "base_uri": "https://localhost:8080/"
        },
        "id": "MMKyJa3LuyOO",
        "outputId": "54f84c8c-7e43-420d-fb30-96a858449f8f"
      },
      "execution_count": 8,
      "outputs": [
        {
          "output_type": "stream",
          "name": "stdout",
          "text": [
            "[[4 4 6 6]\n",
            " [7 7 8 8]\n",
            " [1 1 9 9]]\n"
          ]
        }
      ]
    },
    {
      "cell_type": "code",
      "source": [
        "print( aii[0:2, 2])\n"
      ],
      "metadata": {
        "colab": {
          "base_uri": "https://localhost:8080/"
        },
        "id": "Kx3nMDf0u5qF",
        "outputId": "99c3090c-d848-43b7-e27b-dddffe10eb38"
      },
      "execution_count": 9,
      "outputs": [
        {
          "output_type": "stream",
          "name": "stdout",
          "text": [
            "[4 7]\n"
          ]
        }
      ]
    },
    {
      "cell_type": "code",
      "source": [
        "newa =aii.reshape(-1)\n",
        "print( np.sort(newa,))\n"
      ],
      "metadata": {
        "colab": {
          "base_uri": "https://localhost:8080/"
        },
        "id": "g81pd6HPvnJC",
        "outputId": "39787516-4881-47cb-df5b-d98010dddc8c"
      },
      "execution_count": 11,
      "outputs": [
        {
          "output_type": "stream",
          "name": "stdout",
          "text": [
            "[1 1 4 4 6 6 7 7 8 8 9 9]\n"
          ]
        }
      ]
    },
    {
      "cell_type": "code",
      "source": [
        "ne = newa.copy()\n",
        "newa[0] = 42\n",
        "print( newa,\"\\n\")\n",
        "print(ne)\n"
      ],
      "metadata": {
        "colab": {
          "base_uri": "https://localhost:8080/"
        },
        "id": "DVQ-vPfg1aZN",
        "outputId": "4796ca1d-d58e-4c41-8e8b-0a62254bc1b0"
      },
      "execution_count": 12,
      "outputs": [
        {
          "output_type": "stream",
          "name": "stdout",
          "text": [
            "[42  6  4  6  7  8  7  8  9  1  9  1] \n",
            "\n",
            "[4 6 4 6 7 8 7 8 9 1 9 1]\n"
          ]
        }
      ]
    },
    {
      "cell_type": "code",
      "source": [
        "ne = newa.view()\n",
        "newa[0] = 42\n",
        "print(newa,\"\\n\")\n",
        "print(ne,\"\\n\")\n",
        "\n"
      ],
      "metadata": {
        "colab": {
          "base_uri": "https://localhost:8080/"
        },
        "id": "QOvzDdqQ1lbt",
        "outputId": "0350c654-8609-4a36-e9b2-0f8afdda86f5"
      },
      "execution_count": 13,
      "outputs": [
        {
          "output_type": "stream",
          "name": "stdout",
          "text": [
            "[42  6  4  6  7  8  7  8  9  1  9  1] \n",
            "\n",
            "[42  6  4  6  7  8  7  8  9  1  9  1] \n",
            "\n"
          ]
        }
      ]
    },
    {
      "cell_type": "code",
      "source": [
        "print( newa[1:10:2])\n",
        "newarr = newa.reshape(2, 3, 2)\n",
        "print( newarr)\n",
        "print( newarr.ndim)"
      ],
      "metadata": {
        "colab": {
          "base_uri": "https://localhost:8080/"
        },
        "id": "HrgkCAV-1vqJ",
        "outputId": "5812adb9-1d9f-4941-a2d3-64bb24e0beaa"
      },
      "execution_count": 14,
      "outputs": [
        {
          "output_type": "stream",
          "name": "stdout",
          "text": [
            "[6 6 8 8 1]\n",
            "[[[42  6]\n",
            "  [ 4  6]\n",
            "  [ 7  8]]\n",
            "\n",
            " [[ 7  8]\n",
            "  [ 9  1]\n",
            "  [ 9  1]]]\n",
            "3\n"
          ]
        }
      ]
    },
    {
      "cell_type": "code",
      "source": [
        "\n",
        "print( aii,\"\\n\\n\")\n",
        "\n",
        "for x in a:\n",
        "  print(x)\n",
        "print(\"\\n\")\n"
      ],
      "metadata": {
        "colab": {
          "base_uri": "https://localhost:8080/"
        },
        "id": "HM_HReUFubF9",
        "outputId": "19a01719-4888-4de8-9a59-287cd6ef7410"
      },
      "execution_count": 6,
      "outputs": [
        {
          "output_type": "stream",
          "name": "stdout",
          "text": [
            "[[4 6 4 6]\n",
            " [7 8 7 8]\n",
            " [9 1 9 1]] \n",
            "\n",
            "\n",
            "[4 6]\n",
            "[7 8]\n",
            "[9 1]\n",
            "\n",
            "\n"
          ]
        }
      ]
    },
    {
      "cell_type": "code",
      "source": [
        "ar=np.array([[[1,2,3],[4,5,6]], [[9,8,7],[4,7,9]]])\n",
        "print(ar)\n",
        "print(ar.ndim)\n",
        "print(ar[1,1,1])\n"
      ],
      "metadata": {
        "colab": {
          "base_uri": "https://localhost:8080/"
        },
        "id": "yiS5HDv3uiTL",
        "outputId": "38c896d9-f502-4364-a1ac-82364c82f5de"
      },
      "execution_count": null,
      "outputs": [
        {
          "output_type": "stream",
          "name": "stdout",
          "text": [
            "[[[1 2 3]\n",
            "  [4 5 6]]\n",
            "\n",
            " [[9 8 7]\n",
            "  [4 7 9]]]\n",
            "3\n",
            "7\n"
          ]
        }
      ]
    },
    {
      "cell_type": "code",
      "source": [
        "arr = np.array([1, 2, 3, 4, 5])\n",
        "x = arr.view()\n",
        "arr[0] = 42\n",
        "\n",
        "print(arr)\n",
        "print(x)"
      ],
      "metadata": {
        "colab": {
          "base_uri": "https://localhost:8080/"
        },
        "id": "U2XMgmSB_SKc",
        "outputId": "b63e1791-65b8-4fc2-bb4d-5753d4c9fa55"
      },
      "execution_count": null,
      "outputs": [
        {
          "output_type": "stream",
          "name": "stdout",
          "text": [
            "[42  2  3  4  5]\n",
            "[42  2  3  4  5]\n"
          ]
        }
      ]
    },
    {
      "cell_type": "code",
      "source": [
        "arr = np.array([1, 2, 3, 4, 5, 6, 7])\n",
        "\n",
        "print(arr[1:5:2])"
      ],
      "metadata": {
        "colab": {
          "base_uri": "https://localhost:8080/"
        },
        "id": "DsH5X_Nv_18p",
        "outputId": "736f07fa-86b3-4ebe-9824-22153e67fbbc"
      },
      "execution_count": null,
      "outputs": [
        {
          "output_type": "stream",
          "name": "stdout",
          "text": [
            "[2 4]\n"
          ]
        }
      ]
    },
    {
      "cell_type": "code",
      "source": [],
      "metadata": {
        "id": "iIqoWTEmASrZ"
      },
      "execution_count": null,
      "outputs": []
    }
  ]
}